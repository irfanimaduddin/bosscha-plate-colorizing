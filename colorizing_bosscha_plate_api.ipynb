{
 "cells": [
  {
   "cell_type": "markdown",
   "metadata": {},
   "source": [
    "# Image Colorization API for Bosscha Observatory Photographic Plate\n",
    "\n",
    "Code by   : Irfan Imaduddin <br>\n",
    "Version   : 1.0 <br>\n",
    "Date      : November 27th, 2020 <br>\n",
    "Contact   : irfanimaduddin[at]gmail.com <br>\n",
    "Reference : https://deepai.org/machine-learning-model/colorizer\n",
    "\n",
    "---"
   ]
  },
  {
   "cell_type": "markdown",
   "metadata": {},
   "source": [
    "Import necessary modules"
   ]
  },
  {
   "cell_type": "code",
   "execution_count": 1,
   "metadata": {},
   "outputs": [],
   "source": [
    "import requests"
   ]
  },
  {
   "cell_type": "markdown",
   "metadata": {},
   "source": [
    "Define folder path"
   ]
  },
  {
   "cell_type": "code",
   "execution_count": 2,
   "metadata": {},
   "outputs": [],
   "source": [
    "folderpath = \"/media/irfanimaduddin/E8AA6AA6AA6A70CC/PROJECT/colorizing_bosscha_plate/\""
   ]
  },
  {
   "cell_type": "markdown",
   "metadata": {},
   "source": [
    "Image list of the folderpath\n",
    "\n",
    "* Bamberg 1925-1200.jpg\n",
    "* Bengkel-600.jpg\n",
    "* Kupel-1-600.jpg\n",
    "* Kupel-2-600.jpg\n",
    "* Kupel-2-1200.jpg\n",
    "* Perpus-600.jpg\n",
    "* Perpus-1200.jpg\n",
    "* R.Ukur Sept 1931-600.jpg\n",
    "* R.Ukur Sept 1931-1200.jpg\n",
    "* Zeiss-1-600.jpg\n",
    "* Zeiss-2-600.jpg\n",
    "* Zeiss-3-600.jpg"
   ]
  },
  {
   "cell_type": "markdown",
   "metadata": {},
   "source": [
    "Request Image Colorization API"
   ]
  },
  {
   "cell_type": "code",
   "execution_count": 22,
   "metadata": {},
   "outputs": [],
   "source": [
    "r = requests.post(\n",
    "    \"https://api.deepai.org/api/colorizer\",\n",
    "    files={\n",
    "        'image': open((folderpath+'Bamberg 1925-1200.jpg'), 'rb'),\n",
    "#         'image': open((folderpath+'Bengkel-600.jpg'), 'rb'),\n",
    "#         'image': open((folderpath+'Kupel-1-600.jpg'), 'rb'),\n",
    "#         'image': open((folderpath+'Kupel-2-600.jpg'), 'rb'),\n",
    "#         'image': open((folderpath+'Kupel-2-1200.jpg'), 'rb'),\n",
    "#         'image': open((folderpath+'Perpus-600.jpg'), 'rb'),\n",
    "#         'image': open((folderpath+'Perpus-1200.jpg'), 'rb'),\n",
    "#         'image': open((folderpath+'R.Ukur Sept 1931-600.jpg'), 'rb'),\n",
    "#         'image': open((folderpath+'R.Ukur Sept 1931-1200.jpg'), 'rb'),\n",
    "#         'image': open((folderpath+'Zeiss-1-600.jpg'), 'rb'),\n",
    "#         'image': open((folderpath+'Zeiss-2-600.jpg'), 'rb'),\n",
    "#         'image': open((folderpath+'Zeiss-3-600.jpg'), 'rb'),\n",
    "    },\n",
    "    headers={'api-key': '6791cbf8-37ef-4488-99f9-9569a936fd51'}\n",
    ")"
   ]
  },
  {
   "cell_type": "code",
   "execution_count": 23,
   "metadata": {},
   "outputs": [
    {
     "name": "stdout",
     "output_type": "stream",
     "text": [
      "{'id': 'fd59ffc8-7022-47be-928c-2b61d5d4212b', 'output_url': 'https://api.deepai.org/job-view-file/fd59ffc8-7022-47be-928c-2b61d5d4212b/outputs/output.jpg'}\n"
     ]
    }
   ],
   "source": [
    "print(r.json())"
   ]
  },
  {
   "cell_type": "code",
   "execution_count": null,
   "metadata": {},
   "outputs": [],
   "source": []
  }
 ],
 "metadata": {
  "kernelspec": {
   "display_name": "Python 3",
   "language": "python",
   "name": "python3"
  },
  "language_info": {
   "codemirror_mode": {
    "name": "ipython",
    "version": 3
   },
   "file_extension": ".py",
   "mimetype": "text/x-python",
   "name": "python",
   "nbconvert_exporter": "python",
   "pygments_lexer": "ipython3",
   "version": "3.8.8"
  }
 },
 "nbformat": 4,
 "nbformat_minor": 4
}
